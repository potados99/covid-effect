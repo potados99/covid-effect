{
 "cells": [
  {
   "cell_type": "markdown",
   "metadata": {
    "collapsed": true,
    "pycharm": {
     "name": "#%% md\n"
    }
   },
   "source": [
    "## Preprocess\n",
    "\n",
    "수집한 데이터를 전처리하여 다시 저장합니다."
   ]
  },
  {
   "cell_type": "code",
   "execution_count": 2,
   "outputs": [],
   "source": [
    "import pandas\n",
    "\n",
    "\n",
    "def load(list_num: int) -> pandas.DataFrame:\n",
    "    return pandas.read_csv(f'list{list_num}.csv')"
   ],
   "metadata": {
    "collapsed": false,
    "pycharm": {
     "name": "#%%\n"
    }
   }
  },
  {
   "cell_type": "code",
   "execution_count": 3,
   "outputs": [
    {
     "data": {
      "text/plain": "        번호  구분                                                계약명       계약금액  \\\n0        1  공사                바이오,해양클러스터관 건립 관급자재 구매(데크플레이트) 계약의뢰  120012920   \n1        2  자산                  [예술체육대학 디자인학부]교육 연구용 기자재(imac) 구매   63002500   \n2        3  용역                                대학발전계획 수립 컨설팅 용역 의뢰  291059000   \n3        4  공사  산학 창업 COMPLEX(바이오 해양 클러스터관) 건립 전기공사 계약(2021년 연...   16742900   \n4        5  공사                        바이오,해양클러스터관 건립공사(건축분야) 계약의뢰  502860000   \n...    ...  ..                                                ...        ...   \n1074  1075  용역                                    (총무과)버스 임차계약 의뢰    3060000   \n1075  1076  용역                     (총무과)2013년 인천대학교 교직원 단체보험 입찰의뢰   50891350   \n1076  1077  용역                    인천대학교 차세대 ui종합정보시스템 1단계 구축 감리용역   82500000   \n1077  1078  자산                            차세대 ui 종합정보시스템 1단계 구축사업  857520000   \n1078  1079  공사                           제물포캠퍼스 예체능대체육관 마루바닥 보수공사   10421500   \n\n             계약일          계약상대자  \n0     2021-12-03      주식회사 디앤에프  \n1     2021-11-22     주식회사 빛나는교육  \n2     2021-11-19  이와이컨설팅 유한책임회사  \n3     2021-11-16        주식회사 우일  \n4     2021-11-15        고속건설(주)  \n...          ...            ...  \n1074  2013-01-23       (주)이삼화관광  \n1075  2013-01-18       한국교직원공제회  \n1076  2012-11-27       (주)케이씨에이  \n1077  2012-08-10        (주)엔디에스  \n1078  2012-02-15          (주)동채  \n\n[1079 rows x 6 columns]",
      "text/html": "<div>\n<style scoped>\n    .dataframe tbody tr th:only-of-type {\n        vertical-align: middle;\n    }\n\n    .dataframe tbody tr th {\n        vertical-align: top;\n    }\n\n    .dataframe thead th {\n        text-align: right;\n    }\n</style>\n<table border=\"1\" class=\"dataframe\">\n  <thead>\n    <tr style=\"text-align: right;\">\n      <th></th>\n      <th>번호</th>\n      <th>구분</th>\n      <th>계약명</th>\n      <th>계약금액</th>\n      <th>계약일</th>\n      <th>계약상대자</th>\n    </tr>\n  </thead>\n  <tbody>\n    <tr>\n      <th>0</th>\n      <td>1</td>\n      <td>공사</td>\n      <td>바이오,해양클러스터관 건립 관급자재 구매(데크플레이트) 계약의뢰</td>\n      <td>120012920</td>\n      <td>2021-12-03</td>\n      <td>주식회사 디앤에프</td>\n    </tr>\n    <tr>\n      <th>1</th>\n      <td>2</td>\n      <td>자산</td>\n      <td>[예술체육대학 디자인학부]교육 연구용 기자재(imac) 구매</td>\n      <td>63002500</td>\n      <td>2021-11-22</td>\n      <td>주식회사 빛나는교육</td>\n    </tr>\n    <tr>\n      <th>2</th>\n      <td>3</td>\n      <td>용역</td>\n      <td>대학발전계획 수립 컨설팅 용역 의뢰</td>\n      <td>291059000</td>\n      <td>2021-11-19</td>\n      <td>이와이컨설팅 유한책임회사</td>\n    </tr>\n    <tr>\n      <th>3</th>\n      <td>4</td>\n      <td>공사</td>\n      <td>산학 창업 COMPLEX(바이오 해양 클러스터관) 건립 전기공사 계약(2021년 연...</td>\n      <td>16742900</td>\n      <td>2021-11-16</td>\n      <td>주식회사 우일</td>\n    </tr>\n    <tr>\n      <th>4</th>\n      <td>5</td>\n      <td>공사</td>\n      <td>바이오,해양클러스터관 건립공사(건축분야) 계약의뢰</td>\n      <td>502860000</td>\n      <td>2021-11-15</td>\n      <td>고속건설(주)</td>\n    </tr>\n    <tr>\n      <th>...</th>\n      <td>...</td>\n      <td>...</td>\n      <td>...</td>\n      <td>...</td>\n      <td>...</td>\n      <td>...</td>\n    </tr>\n    <tr>\n      <th>1074</th>\n      <td>1075</td>\n      <td>용역</td>\n      <td>(총무과)버스 임차계약 의뢰</td>\n      <td>3060000</td>\n      <td>2013-01-23</td>\n      <td>(주)이삼화관광</td>\n    </tr>\n    <tr>\n      <th>1075</th>\n      <td>1076</td>\n      <td>용역</td>\n      <td>(총무과)2013년 인천대학교 교직원 단체보험 입찰의뢰</td>\n      <td>50891350</td>\n      <td>2013-01-18</td>\n      <td>한국교직원공제회</td>\n    </tr>\n    <tr>\n      <th>1076</th>\n      <td>1077</td>\n      <td>용역</td>\n      <td>인천대학교 차세대 ui종합정보시스템 1단계 구축 감리용역</td>\n      <td>82500000</td>\n      <td>2012-11-27</td>\n      <td>(주)케이씨에이</td>\n    </tr>\n    <tr>\n      <th>1077</th>\n      <td>1078</td>\n      <td>자산</td>\n      <td>차세대 ui 종합정보시스템 1단계 구축사업</td>\n      <td>857520000</td>\n      <td>2012-08-10</td>\n      <td>(주)엔디에스</td>\n    </tr>\n    <tr>\n      <th>1078</th>\n      <td>1079</td>\n      <td>공사</td>\n      <td>제물포캠퍼스 예체능대체육관 마루바닥 보수공사</td>\n      <td>10421500</td>\n      <td>2012-02-15</td>\n      <td>(주)동채</td>\n    </tr>\n  </tbody>\n</table>\n<p>1079 rows × 6 columns</p>\n</div>"
     },
     "execution_count": 3,
     "metadata": {},
     "output_type": "execute_result"
    }
   ],
   "source": [
    "# 어떻게 생겼는지 가져와서 일단 봅니다.\n",
    "load(1)\n",
    "#load(2)\n",
    "#load(3)"
   ],
   "metadata": {
    "collapsed": false,
    "pycharm": {
     "name": "#%%\n"
    }
   }
  },
  {
   "cell_type": "markdown",
   "source": [
    "## 전처리 목표: 구매 항목을 분리해내기\n",
    "\n",
    "### 주어진 데이터셋 관찰\n",
    "\n",
    "총 32079개의 레코드를 가져왔습니다.\n",
    "\n",
    "데이터셋은 다섯 개의 칼럼을 제공합니다: `구분`, `계약명`, `계약금액`, `계약금액`, `계약일`, `계약대상자`.\n",
    "\n",
    "구매 내역은 그 중 `계약명`에 대체로 자유로운 형태로 기술되어 있습니다.\n",
    "\n",
    "우리에게 필요한 것은 *{**어떤**} 물건을 구매하였는가* 에서 *{**어떤**}* 부분입니다.\n",
    "\n",
    "### 구매 내역이 아닌 것을 제거: 주어진 칼럼 `구분`을 사용\n",
    "\n",
    "주어진 데이터셋은 물품 구입 뿐만 아니라 공사 발주도 포함합니다:\n",
    "\n",
    "```\n",
    "0\t1\t공사\t바이오,해양클러스터관 건립 관급자재 구매(데크플레이트) 계약의뢰\t120012920\t2021-12-03\t주식회사 디앤에프\n",
    "```\n",
    "\n",
    "이 경우는 `구분`이 `공사`인 것을 제하는 것으로 해결할 수 있습니다. 비슷한 경우로 `용역`도 제거합니다. 남은 것은 무엇이 있을까요?\n",
    "\n",
    "```\n",
    "0\t공사\n",
    "1\t자산\n",
    "2\t용역\n",
    "19\t구매/기타\n",
    "```\n",
    "\n",
    "데이터셋 전체에 등장하는 구분은 위 4개가 전부입니다. 이제 `자산`과 `구매/기타`만 남았습니다. 이 둘은 일단 남겨 놓습니다.\n",
    "\n",
    "이제 주어진 데이터셋에서 27762개의 레코드만 남았습니다.\n",
    "\n",
    "### 구매 내역이 아닌 것을 제거: 텍스트로부터\n",
    "\n",
    "아래와 같은 계약 내역은 어떠한 물품을 구매했는지를 제대로 알려주지 않습니다:\n",
    "\n",
    "```\n",
    "10172\t10173\t구매/기타\t송도캠퍼스 환경미화원실 근무환경 개선작업\t2438700\t2017-01-04\t고려설비(주)\n",
    "```\n",
    "\n",
    "`계약명`이 아래와 같은 형태의 값을 가지는 기록만 남기기로 했습니다:\n",
    "\n",
    "```\n",
    "^(?<ITEM>.+) (구매|구입|구입요구)$\n",
    "```\n",
    "\n",
    "11188개만 남았습니다.\n",
    "\n",
    "### 학과 이름 제거\n",
    "\n",
    "구매 항목을 살펴 보니 *예술체육대학*, *임베디드시스템학과*와 같은 학과/학부 이름이 자주 등장합니다. 이러한 이름들은 구매한 물품을 설명하는 데에 도움이 되지는 않기 때문에 제거하고 싶습니다.\n",
    "\n",
    "[교내 홈페이지](https://www.inu.ac.kr/mbshome/mbs/inu/index.do)로부터 학과 목록을 모두 가져 옵니다.\n",
    "\n",
    "> ['유아교육과',\n",
    " '경영학부',\n",
    " '건설환경공학',\n",
    " '예술체육대학',\n",
    " '영어영문학과',\n",
    " '컴퓨터공학부',\n",
    " '화학과',\n",
    " '공연예술학과',\n",
    " '무역학부',\n",
    " '경제학과',\n",
    " '임베디드시스템공학과',\n",
    " '체육교육과',\n",
    " '생명공학전공',\n",
    " '생명과학전공',\n",
    " '체육학부',\n",
    " '수학교육과',\n",
    " '계약학과',\n",
    " '인문대학',\n",
    " '신소재공학과',\n",
    " '일어교육과',\n",
    " '행정학과',\n",
    " '창의인재개발학과',\n",
    " '한국통상전공',\n",
    " '생명과학부',\n",
    " '운동건강학부',\n",
    " '정치외교학과',\n",
    " '공과대학',\n",
    " '국어교육과',\n",
    " '사회과학대학',\n",
    " '역사교육과',\n",
    " '경영대학',\n",
    " '동북아통상전공',\n",
    " '도시공학과',\n",
    " '영어교육과',\n",
    " '에너지화학공학과',\n",
    " '중어중국학과',\n",
    " '생명공학부',\n",
    " '나노바이오전공',\n",
    " '정보통신공학과',\n",
    " '정보기술대학',\n",
    " '신문방송학과',\n",
    " '수학과',\n",
    " '산업경영공학과',\n",
    " '물리학과',\n",
    " '글로벌정경대학',\n",
    " '디자인학부',\n",
    " '불어불문학과',\n",
    " '테크노경영학과',\n",
    " '도시건축학부',\n",
    " '패션산업학과',\n",
    " '독어독문학과',\n",
    " '사범대학',\n",
    " '분자의생명전공',\n",
    " '기초교육원',\n",
    " '세무회계학과',\n",
    " '국어국문학과',\n",
    " '생명과학기술대학',\n",
    " '윤리교육과',\n",
    " '동북아국제통상학부',\n",
    " '메카트로닉스공학',\n",
    " '법학부',\n",
    " '도시행정학과',\n",
    " '건축공학',\n",
    " '안전공학과',\n",
    " '사회복지학과',\n",
    " '조형예술학부',\n",
    " '도시환경공학부',\n",
    " '일어일문학과',\n",
    " '환경공학',\n",
    " '문헌정보학과',\n",
    " '기계공학과',\n",
    " '도시건축학',\n",
    " '도시과학대학',\n",
    " '전자공학과',\n",
    " '전기공학과',\n",
    " '해양학과',\n",
    " '자연과학대학',\n",
    " '소비자학과']\n",
    "\n",
    "단과대와 학과가 모두 포함된 리스트입니다. 이 텍스트만 걸러내면 됩니다."
   ],
   "metadata": {
    "collapsed": false,
    "pycharm": {
     "name": "#%% md\n"
    }
   }
  },
  {
   "cell_type": "code",
   "execution_count": 50,
   "outputs": [],
   "source": [
    "import re\n",
    "from urllib.request import urlopen\n",
    "from bs4 import BeautifulSoup\n",
    "\n",
    "\n",
    "def get_list_of_departments() -> list:\n",
    "    html = urlopen('https://www.inu.ac.kr/mbshome/mbs/inu/index.do')\n",
    "    soup = BeautifulSoup(html, \"html.parser\")\n",
    "\n",
    "    rows = [tag.text for tag in soup.select('#gnb > ul > li')[0].select('div > ul > li')]\n",
    "\n",
    "    decoupled = map(lambda x: x.replace('(', '\\n').replace(')', ''), rows)\n",
    "\n",
    "    split = map(lambda x: x.split('\\n'), decoupled)\n",
    "\n",
    "    flatten = [x for sublist in split for x in sublist if len(x) > 0][1:]\n",
    "\n",
    "    return list(set(flatten))"
   ],
   "metadata": {
    "collapsed": false,
    "pycharm": {
     "name": "#%%\n"
    }
   }
  },
  {
   "cell_type": "code",
   "execution_count": 78,
   "outputs": [],
   "source": [
    "from konlpy.tag import Okt\n",
    "\n",
    "\n",
    "def preprocess_and_save():\n",
    "    combined = load(1).append(load(2)).append(load(3))\n",
    "\n",
    "    # 용역 같은 것 제거\n",
    "    category_filtered = combined[(combined['구분'] == '자산') | (combined['구분'] == '구매/기타')]\n",
    "\n",
    "    # 특정 형식 텍스트를 지정하는 패턴\n",
    "    purchase_regex = re.compile(r'^(?P<ITEM>.+) (구매|구입|구입요구)$')\n",
    "\n",
    "    # 특정 형식 텍스트만 추출\n",
    "    purchase_filtered = category_filtered[category_filtered['계약명'].str.match(purchase_regex)].copy()\n",
    "\n",
    "    # 그렇게 추출된 물품 이름을 새 칼럼에 할당\n",
    "    purchase_filtered['물품'] = purchase_filtered['계약명'].map(lambda x: re.match(purchase_regex, x).group('ITEM'))\n",
    "\n",
    "    okt = Okt()\n",
    "\n",
    "    # 단과대학과 학과명은 제거할 예정\n",
    "    deps = get_list_of_departments()\n",
    "\n",
    "    # 단과대학과 학과명을 걸러내는 큰 패턴\n",
    "    big_deps_regex = re.compile('|'.join(map(re.escape, deps)))\n",
    "\n",
    "    # 단과대학과 학과명을 걸러낸 시리즈\n",
    "    without_deps = purchase_filtered['물품'].map(lambda x: big_deps_regex.sub('', x))\n",
    "\n",
    "    # 명사만 추출\n",
    "    all_nouns = without_deps.map(lambda x: okt.nouns(x))\n",
    "\n",
    "    # 명사 중에서도 길이가 2 이상인 것만 추출\n",
    "    short_nouns_filtered = all_nouns.map(lambda x: [k for k in x if len(k) > 1])\n",
    "\n",
    "    # 위에서 추출한 시리즈를 다시 데이터프레임에 대입\n",
    "    purchase_filtered['토큰'] = short_nouns_filtered\n",
    "\n",
    "    # 사용할 칼럼만 추출\n",
    "    only_necessary_columns = purchase_filtered.filter(['물품', '토큰', '계약금액', '계약일'])\\\n",
    "\n",
    "    # 계약일 오름차순 정렬\n",
    "    date_sorted = only_necessary_columns.sort_values(by=['계약일'], axis=0)\n",
    "\n",
    "    # 파일로 저장\n",
    "    date_sorted.to_csv('preprocessed.csv', index=False)"
   ],
   "metadata": {
    "collapsed": false,
    "pycharm": {
     "name": "#%%\n"
    }
   }
  },
  {
   "cell_type": "code",
   "execution_count": 79,
   "outputs": [],
   "source": [
    "preprocess_and_save()"
   ],
   "metadata": {
    "collapsed": false,
    "pycharm": {
     "name": "#%%\n"
    }
   }
  }
 ],
 "metadata": {
  "kernelspec": {
   "display_name": "Python 3",
   "language": "python",
   "name": "python3"
  },
  "language_info": {
   "codemirror_mode": {
    "name": "ipython",
    "version": 2
   },
   "file_extension": ".py",
   "mimetype": "text/x-python",
   "name": "python",
   "nbconvert_exporter": "python",
   "pygments_lexer": "ipython2",
   "version": "2.7.6"
  }
 },
 "nbformat": 4,
 "nbformat_minor": 0
}