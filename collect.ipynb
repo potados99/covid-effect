{
 "cells": [
  {
   "cell_type": "markdown",
   "source": [
    "## Collect\n",
    "\n",
    "웹 상에 공개된 데이터를 가져와 로컬에 `csv` 파일로 저장합니다."
   ],
   "metadata": {
    "collapsed": false,
    "pycharm": {
     "name": "#%% md\n"
    }
   }
  },
  {
   "cell_type": "code",
   "execution_count": 9,
   "metadata": {
    "collapsed": true
   },
   "outputs": [],
   "source": [
    "import pandas\n",
    "\n",
    "\n",
    "def fetch_and_save(list_number: int):\n",
    "    url = f'http://www.inu.ac.kr/com/cop/contractType{list_number}ListPrint.do?constructnm='\n",
    "\n",
    "    df = pandas.read_html(url, encoding='utf-8')[0]\n",
    "\n",
    "    pandas.to_csv(f'list{list_number}.csv', index=False)"
   ]
  },
  {
   "cell_type": "code",
   "execution_count": 7,
   "outputs": [
    {
     "data": {
      "text/plain": "          번호     구분                                   계약명      계약금액  \\\n0          1  구매/기타     (체육진흥원-시체육회)테니스부 훈련용품(스트링,시합구) 구매   3300000   \n1          2  구매/기타  [일반수용비] 소모품(화상회의용 웹캠 및 헤드셋) 구입 비용 지출    107000   \n2          3  구매/기타       컴퓨터공학부 실습재료(아두이노보드 외 5종) 구입비 지출     52605   \n3          4  구매/기타                        캠퍼스기획과 사무용품 구매    100000   \n4          5  구매/기타                재무회계팀 사무실 소모품(사무용품) 구입    437490   \n...      ...    ...                                   ...       ...   \n10170  10171  구매/기타                     신소재공학과 실험실습 재료 구입    484000   \n10171  10172  구매/기타          2017학년도 정시모집 체육학부 실기고사 물품 구입    726000   \n10172  10173  구매/기타                송도캠퍼스 환경미화원실 근무환경 개선작업   2438700   \n10173  10174     자산             캠퍼스 유지보수를 위한 LED 조명 자재 구입  53031300   \n10174  10175     자산                            공조기 인버터 구입   9070000   \n\n              계약일        계약상대자  \n0      2021-12-12  (주)TFK티에프케이  \n1      2021-12-10         카드구매  \n2      2021-12-10         카드구매  \n3      2021-12-10         카드구매  \n4      2021-12-10         카드구매  \n...           ...          ...  \n10170  2017-01-04          텍스코  \n10171  2017-01-04         동화과학  \n10172  2017-01-04      고려설비(주)  \n10173  2016-12-27      인천지방조달청  \n10174  2016-12-27      한경기전(주)  \n\n[10175 rows x 6 columns]",
      "text/html": "<div>\n<style scoped>\n    .dataframe tbody tr th:only-of-type {\n        vertical-align: middle;\n    }\n\n    .dataframe tbody tr th {\n        vertical-align: top;\n    }\n\n    .dataframe thead th {\n        text-align: right;\n    }\n</style>\n<table border=\"1\" class=\"dataframe\">\n  <thead>\n    <tr style=\"text-align: right;\">\n      <th></th>\n      <th>번호</th>\n      <th>구분</th>\n      <th>계약명</th>\n      <th>계약금액</th>\n      <th>계약일</th>\n      <th>계약상대자</th>\n    </tr>\n  </thead>\n  <tbody>\n    <tr>\n      <th>0</th>\n      <td>1</td>\n      <td>구매/기타</td>\n      <td>(체육진흥원-시체육회)테니스부 훈련용품(스트링,시합구) 구매</td>\n      <td>3300000</td>\n      <td>2021-12-12</td>\n      <td>(주)TFK티에프케이</td>\n    </tr>\n    <tr>\n      <th>1</th>\n      <td>2</td>\n      <td>구매/기타</td>\n      <td>[일반수용비] 소모품(화상회의용 웹캠 및 헤드셋) 구입 비용 지출</td>\n      <td>107000</td>\n      <td>2021-12-10</td>\n      <td>카드구매</td>\n    </tr>\n    <tr>\n      <th>2</th>\n      <td>3</td>\n      <td>구매/기타</td>\n      <td>컴퓨터공학부 실습재료(아두이노보드 외 5종) 구입비 지출</td>\n      <td>52605</td>\n      <td>2021-12-10</td>\n      <td>카드구매</td>\n    </tr>\n    <tr>\n      <th>3</th>\n      <td>4</td>\n      <td>구매/기타</td>\n      <td>캠퍼스기획과 사무용품 구매</td>\n      <td>100000</td>\n      <td>2021-12-10</td>\n      <td>카드구매</td>\n    </tr>\n    <tr>\n      <th>4</th>\n      <td>5</td>\n      <td>구매/기타</td>\n      <td>재무회계팀 사무실 소모품(사무용품) 구입</td>\n      <td>437490</td>\n      <td>2021-12-10</td>\n      <td>카드구매</td>\n    </tr>\n    <tr>\n      <th>...</th>\n      <td>...</td>\n      <td>...</td>\n      <td>...</td>\n      <td>...</td>\n      <td>...</td>\n      <td>...</td>\n    </tr>\n    <tr>\n      <th>10170</th>\n      <td>10171</td>\n      <td>구매/기타</td>\n      <td>신소재공학과 실험실습 재료 구입</td>\n      <td>484000</td>\n      <td>2017-01-04</td>\n      <td>텍스코</td>\n    </tr>\n    <tr>\n      <th>10171</th>\n      <td>10172</td>\n      <td>구매/기타</td>\n      <td>2017학년도 정시모집 체육학부 실기고사 물품 구입</td>\n      <td>726000</td>\n      <td>2017-01-04</td>\n      <td>동화과학</td>\n    </tr>\n    <tr>\n      <th>10172</th>\n      <td>10173</td>\n      <td>구매/기타</td>\n      <td>송도캠퍼스 환경미화원실 근무환경 개선작업</td>\n      <td>2438700</td>\n      <td>2017-01-04</td>\n      <td>고려설비(주)</td>\n    </tr>\n    <tr>\n      <th>10173</th>\n      <td>10174</td>\n      <td>자산</td>\n      <td>캠퍼스 유지보수를 위한 LED 조명 자재 구입</td>\n      <td>53031300</td>\n      <td>2016-12-27</td>\n      <td>인천지방조달청</td>\n    </tr>\n    <tr>\n      <th>10174</th>\n      <td>10175</td>\n      <td>자산</td>\n      <td>공조기 인버터 구입</td>\n      <td>9070000</td>\n      <td>2016-12-27</td>\n      <td>한경기전(주)</td>\n    </tr>\n  </tbody>\n</table>\n<p>10175 rows × 6 columns</p>\n</div>"
     },
     "execution_count": 7,
     "metadata": {},
     "output_type": "execute_result"
    }
   ],
   "source": [
    "fetch_and_save(1)\n",
    "fetch_and_save(2)\n",
    "fetch_and_save(3)"
   ],
   "metadata": {
    "collapsed": false,
    "pycharm": {
     "name": "#%%\n"
    }
   }
  }
 ],
 "metadata": {
  "kernelspec": {
   "display_name": "Python 3",
   "language": "python",
   "name": "python3"
  },
  "language_info": {
   "codemirror_mode": {
    "name": "ipython",
    "version": 2
   },
   "file_extension": ".py",
   "mimetype": "text/x-python",
   "name": "python",
   "nbconvert_exporter": "python",
   "pygments_lexer": "ipython2",
   "version": "2.7.6"
  }
 },
 "nbformat": 4,
 "nbformat_minor": 0
}